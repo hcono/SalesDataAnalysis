{
 "cells": [
  {
   "cell_type": "markdown",
   "metadata": {},
   "source": [
    "# Sales Data Analysis\n",
    "\n",
    "- look at the sales of a company from a buisness analyst point of view"
   ]
  },
  {
   "cell_type": "code",
   "execution_count": 33,
   "metadata": {},
   "outputs": [],
   "source": [
    "import pandas as pd\n",
    "import matplotlib.pyplot as plt\n",
    "import seaborn as sns\n",
    "import numpy as np\n",
    "\n"
   ]
  },
  {
   "cell_type": "code",
   "execution_count": 34,
   "metadata": {},
   "outputs": [],
   "source": [
    "# import the dataset as a pandas df\n",
    "\n",
    "salesDatadf = pd.read_csv(\"sales_data_sample.csv\")\n",
    "\n",
    "# error = 'utf-8' codec can't decode byte 0x84 in position 5327: invalid start byte\n"
   ]
  },
  {
   "cell_type": "code",
   "execution_count": 35,
   "metadata": {},
   "outputs": [],
   "source": [
    "# address the read error\n",
    "\n",
    "import chardet # library to detect the encoding of the file"
   ]
  },
  {
   "cell_type": "code",
   "execution_count": 36,
   "metadata": {},
   "outputs": [
    {
     "name": "stdout",
     "output_type": "stream",
     "text": [
      "utf-8\n"
     ]
    }
   ],
   "source": [
    "#Detect the encoding\n",
    "\n",
    "file_path = 'sales_data_sample.csv'\n",
    "\n",
    "def detect_encoding(file_path):\n",
    "    with open(file_path, 'rb') as file:\n",
    "        raw_data = file.read()\n",
    "    result = chardet.detect(raw_data)\n",
    "    return result['encoding']\n",
    "\n",
    "\n",
    "print(detect_encoding(file_path))\n",
    "\n",
    "# this gave a Johab encoding, this was not correct, after furthur exploration latin-1 encoding works"
   ]
  },
  {
   "cell_type": "code",
   "execution_count": 37,
   "metadata": {},
   "outputs": [],
   "source": [
    "# read the file with a johab encoding\n",
    "# import the dataset as a pandas df\n",
    "\n",
    "salesDatadf = pd.read_csv(\"sales_data_sample.csv\", index_col= 'ORDERNUMBER', encoding = 'latin-1')"
   ]
  },
  {
   "cell_type": "code",
   "execution_count": 38,
   "metadata": {},
   "outputs": [
    {
     "name": "stdout",
     "output_type": "stream",
     "text": [
      "DataFarme Shape: (2823, 25)\n",
      "Dataframe Size: 70575\n",
      "Dataframe Data Types: Unnamed: 0            int64\n",
      "QUANTITYORDERED       int64\n",
      "PRICEEACH           float64\n",
      "ORDERLINENUMBER       int64\n",
      "SALES               float64\n",
      "ORDERDATE            object\n",
      "STATUS               object\n",
      "QTR_ID                int64\n",
      "MONTH_ID              int64\n",
      "YEAR_ID               int64\n",
      "PRODUCTLINE          object\n",
      "MSRP                  int64\n",
      "PRODUCTCODE          object\n",
      "CUSTOMERNAME         object\n",
      "PHONE                object\n",
      "ADDRESSLINE1         object\n",
      "ADDRESSLINE2         object\n",
      "CITY                 object\n",
      "STATE                object\n",
      "POSTALCODE           object\n",
      "COUNTRY              object\n",
      "TERRITORY            object\n",
      "CONTACTLASTNAME      object\n",
      "CONTACTFIRSTNAME     object\n",
      "DEALSIZE             object\n",
      "dtype: object\n",
      "Dataframe Head:              Unnamed: 0  QUANTITYORDERED  PRICEEACH  ORDERLINENUMBER    SALES  \\\n",
      "ORDERNUMBER                                                                     \n",
      "10107                 0               30      95.70                2  2871.00   \n",
      "10121                 1               34      81.35                5  2765.90   \n",
      "10134                 2               41      94.74                2  3884.34   \n",
      "10145                 3               45      83.26                6  3746.70   \n",
      "10159                 4               49     100.00               14  5205.27   \n",
      "\n",
      "              ORDERDATE   STATUS  QTR_ID  MONTH_ID  YEAR_ID  ...  \\\n",
      "ORDERNUMBER                                                  ...   \n",
      "10107        2003-02-24  Shipped       1         2     2003  ...   \n",
      "10121        2003-05-07  Shipped       2         5     2003  ...   \n",
      "10134        2003-07-01  Shipped       3         7     2003  ...   \n",
      "10145        2003-08-25  Shipped       3         8     2003  ...   \n",
      "10159        2003-10-10  Shipped       4        10     2003  ...   \n",
      "\n",
      "                              ADDRESSLINE1  ADDRESSLINE2           CITY STATE  \\\n",
      "ORDERNUMBER                                                                     \n",
      "10107              897 Long Airport Avenue           NaN            NYC    NY   \n",
      "10121                   59 rue de l'Abbaye           NaN          Reims   NaN   \n",
      "10134        27 rue du Colonel Pierre Avia           NaN          Paris   NaN   \n",
      "10145                   78934 Hillside Dr.           NaN       Pasadena    CA   \n",
      "10159                      7734 Strong St.           NaN  San Francisco    CA   \n",
      "\n",
      "            POSTALCODE COUNTRY TERRITORY CONTACTLASTNAME CONTACTFIRSTNAME  \\\n",
      "ORDERNUMBER                                                                 \n",
      "10107            10022     USA       NaN              Yu             Kwai   \n",
      "10121            51100  France      EMEA         Henriot             Paul   \n",
      "10134            75508  France      EMEA        Da Cunha           Daniel   \n",
      "10145            90003     USA       NaN           Young            Julie   \n",
      "10159              NaN     USA       NaN           Brown            Julie   \n",
      "\n",
      "            DEALSIZE  \n",
      "ORDERNUMBER           \n",
      "10107          Small  \n",
      "10121          Small  \n",
      "10134         Medium  \n",
      "10145         Medium  \n",
      "10159         Medium  \n",
      "\n",
      "[5 rows x 25 columns]\n",
      "Dataframe Tail:              Unnamed: 0  QUANTITYORDERED  PRICEEACH  ORDERLINENUMBER    SALES  \\\n",
      "ORDERNUMBER                                                                     \n",
      "10350              2818               20     100.00               15  2244.40   \n",
      "10373              2819               29     100.00                1  3978.51   \n",
      "10386              2820               43     100.00                4  5417.57   \n",
      "10397              2821               34      62.24                1  2116.16   \n",
      "10414              2822               47      65.52                9  3079.44   \n",
      "\n",
      "              ORDERDATE    STATUS  QTR_ID  MONTH_ID  YEAR_ID  ...  \\\n",
      "ORDERNUMBER                                                   ...   \n",
      "10350        2004-12-02   Shipped       4        12     2004  ...   \n",
      "10373        2005-01-31   Shipped       1         1     2005  ...   \n",
      "10386        2005-03-01  Resolved       1         3     2005  ...   \n",
      "10397        2005-03-28   Shipped       1         3     2005  ...   \n",
      "10414        2005-05-06   On Hold       2         5     2005  ...   \n",
      "\n",
      "                      ADDRESSLINE1  ADDRESSLINE2      CITY STATE POSTALCODE  \\\n",
      "ORDERNUMBER                                                                   \n",
      "10350           C/ Moralzarzal, 86           NaN    Madrid   NaN      28034   \n",
      "10373                  Torikatu 38           NaN      Oulu   NaN      90110   \n",
      "10386           C/ Moralzarzal, 86           NaN    Madrid   NaN      28034   \n",
      "10397        1 rue Alsace-Lorraine           NaN  Toulouse   NaN      31000   \n",
      "10414           8616 Spinnaker Dr.           NaN    Boston    MA      51003   \n",
      "\n",
      "             COUNTRY TERRITORY CONTACTLASTNAME CONTACTFIRSTNAME DEALSIZE  \n",
      "ORDERNUMBER                                                               \n",
      "10350          Spain      EMEA          Freyre            Diego    Small  \n",
      "10373        Finland      EMEA       Koskitalo           Pirkko   Medium  \n",
      "10386          Spain      EMEA          Freyre            Diego   Medium  \n",
      "10397         France      EMEA          Roulet          Annette    Small  \n",
      "10414            USA       NaN         Yoshido             Juri   Medium  \n",
      "\n",
      "[5 rows x 25 columns]\n",
      "Dataframe Description:        Unnamed: 0  QUANTITYORDERED    PRICEEACH  ORDERLINENUMBER  \\\n",
      "count  2823.00000      2823.000000  2823.000000      2823.000000   \n",
      "mean   1411.00000        35.092809    83.658544         6.466171   \n",
      "std     815.07423         9.741443    20.174277         4.225841   \n",
      "min       0.00000         6.000000    26.880000         1.000000   \n",
      "25%     705.50000        27.000000    68.860000         3.000000   \n",
      "50%    1411.00000        35.000000    95.700000         6.000000   \n",
      "75%    2116.50000        43.000000   100.000000         9.000000   \n",
      "max    2822.00000        97.000000   100.000000        18.000000   \n",
      "\n",
      "              SALES       QTR_ID     MONTH_ID     YEAR_ID         MSRP  \n",
      "count   2823.000000  2823.000000  2823.000000  2823.00000  2823.000000  \n",
      "mean    3553.889072     2.717676     7.092455  2003.81509   100.715551  \n",
      "std     1841.865106     1.203878     3.656633     0.69967    40.187912  \n",
      "min      482.130000     1.000000     1.000000  2003.00000    33.000000  \n",
      "25%     2203.430000     2.000000     4.000000  2003.00000    68.000000  \n",
      "50%     3184.800000     3.000000     8.000000  2004.00000    99.000000  \n",
      "75%     4508.000000     4.000000    11.000000  2004.00000   124.000000  \n",
      "max    14082.800000     4.000000    12.000000  2005.00000   214.000000  \n",
      "<class 'pandas.core.frame.DataFrame'>\n",
      "Index: 2823 entries, 10107 to 10414\n",
      "Data columns (total 25 columns):\n",
      " #   Column            Non-Null Count  Dtype  \n",
      "---  ------            --------------  -----  \n",
      " 0   Unnamed: 0        2823 non-null   int64  \n",
      " 1   QUANTITYORDERED   2823 non-null   int64  \n",
      " 2   PRICEEACH         2823 non-null   float64\n",
      " 3   ORDERLINENUMBER   2823 non-null   int64  \n",
      " 4   SALES             2823 non-null   float64\n",
      " 5   ORDERDATE         2823 non-null   object \n",
      " 6   STATUS            2823 non-null   object \n",
      " 7   QTR_ID            2823 non-null   int64  \n",
      " 8   MONTH_ID          2823 non-null   int64  \n",
      " 9   YEAR_ID           2823 non-null   int64  \n",
      " 10  PRODUCTLINE       2823 non-null   object \n",
      " 11  MSRP              2823 non-null   int64  \n",
      " 12  PRODUCTCODE       2823 non-null   object \n",
      " 13  CUSTOMERNAME      2823 non-null   object \n",
      " 14  PHONE             2823 non-null   object \n",
      " 15  ADDRESSLINE1      2823 non-null   object \n",
      " 16  ADDRESSLINE2      302 non-null    object \n",
      " 17  CITY              2823 non-null   object \n",
      " 18  STATE             1337 non-null   object \n",
      " 19  POSTALCODE        2747 non-null   object \n",
      " 20  COUNTRY           2823 non-null   object \n",
      " 21  TERRITORY         1749 non-null   object \n",
      " 22  CONTACTLASTNAME   2823 non-null   object \n",
      " 23  CONTACTFIRSTNAME  2823 non-null   object \n",
      " 24  DEALSIZE          2823 non-null   object \n",
      "dtypes: float64(2), int64(7), object(16)\n",
      "memory usage: 573.4+ KB\n",
      "Dataframe Information: None\n"
     ]
    }
   ],
   "source": [
    "# Perform EDA,\n",
    "'''\n",
    "1. Shape and Size of DF\n",
    "2. Data Types\n",
    "3. Head and Tail\n",
    "4. Summary Statistics\n",
    "5. Info\n",
    "'''\n",
    "\n",
    "print(f'DataFarme Shape: {salesDatadf.shape}')\n",
    "print(f'Dataframe Size: {salesDatadf.size}')\n",
    "print(f'Dataframe Data Types: {salesDatadf.dtypes}')\n",
    "print(f'Dataframe Head: {salesDatadf.head()}')\n",
    "print(f'Dataframe Tail: {salesDatadf.tail()}')\n",
    "print(f'Dataframe Description: {salesDatadf.describe()}')\n",
    "print(f'Dataframe Information: {salesDatadf.info()}')\n",
    "\n"
   ]
  },
  {
   "cell_type": "code",
   "execution_count": 39,
   "metadata": {},
   "outputs": [
    {
     "name": "stdout",
     "output_type": "stream",
     "text": [
      "<class 'pandas.core.frame.DataFrame'>\n",
      "Index: 2823 entries, 10107 to 10414\n",
      "Data columns (total 25 columns):\n",
      " #   Column            Non-Null Count  Dtype         \n",
      "---  ------            --------------  -----         \n",
      " 0   Unnamed: 0        2823 non-null   int64         \n",
      " 1   QUANTITYORDERED   2823 non-null   int64         \n",
      " 2   PRICEEACH         2823 non-null   float64       \n",
      " 3   ORDERLINENUMBER   2823 non-null   int64         \n",
      " 4   SALES             2823 non-null   float64       \n",
      " 5   ORDERDATE         2823 non-null   datetime64[ns]\n",
      " 6   STATUS            2823 non-null   object        \n",
      " 7   QTR_ID            2823 non-null   int64         \n",
      " 8   MONTH_ID          2823 non-null   int64         \n",
      " 9   YEAR_ID           2823 non-null   int64         \n",
      " 10  PRODUCTLINE       2823 non-null   object        \n",
      " 11  MSRP              2823 non-null   int64         \n",
      " 12  PRODUCTCODE       2823 non-null   object        \n",
      " 13  CUSTOMERNAME      2823 non-null   object        \n",
      " 14  PHONE             2823 non-null   object        \n",
      " 15  ADDRESSLINE1      2823 non-null   object        \n",
      " 16  ADDRESSLINE2      302 non-null    object        \n",
      " 17  CITY              2823 non-null   object        \n",
      " 18  STATE             1337 non-null   object        \n",
      " 19  POSTALCODE        2747 non-null   object        \n",
      " 20  COUNTRY           2823 non-null   object        \n",
      " 21  TERRITORY         1749 non-null   object        \n",
      " 22  CONTACTLASTNAME   2823 non-null   object        \n",
      " 23  CONTACTFIRSTNAME  2823 non-null   object        \n",
      " 24  DEALSIZE          2823 non-null   object        \n",
      "dtypes: datetime64[ns](1), float64(2), int64(7), object(15)\n",
      "memory usage: 573.4+ KB\n"
     ]
    }
   ],
   "source": [
    "# Intial EDA\n",
    "'''\n",
    "Change date to date time datatype\n",
    "Can drop time as time isnt recorded, just 00:00\n",
    "\n",
    "'''\n",
    "salesDatadf['ORDERDATE'] = pd.to_datetime(salesDatadf['ORDERDATE'])\n",
    "\n",
    "salesDatadf.info()\n",
    "\n",
    "\n",
    "# happy that the dataframe has be edited to according the firts stage of EDA"
   ]
  },
  {
   "cell_type": "code",
   "execution_count": 40,
   "metadata": {},
   "outputs": [
    {
     "name": "stdout",
     "output_type": "stream",
     "text": [
      "Unnamed: 0             0\n",
      "QUANTITYORDERED        0\n",
      "PRICEEACH              0\n",
      "ORDERLINENUMBER        0\n",
      "SALES                  0\n",
      "ORDERDATE              0\n",
      "STATUS                 0\n",
      "QTR_ID                 0\n",
      "MONTH_ID               0\n",
      "YEAR_ID                0\n",
      "PRODUCTLINE            0\n",
      "MSRP                   0\n",
      "PRODUCTCODE            0\n",
      "CUSTOMERNAME           0\n",
      "PHONE                  0\n",
      "ADDRESSLINE1           0\n",
      "ADDRESSLINE2        2521\n",
      "CITY                   0\n",
      "STATE               1486\n",
      "POSTALCODE            76\n",
      "COUNTRY                0\n",
      "TERRITORY           1074\n",
      "CONTACTLASTNAME        0\n",
      "CONTACTFIRSTNAME       0\n",
      "DEALSIZE               0\n",
      "dtype: int64\n"
     ]
    }
   ],
   "source": [
    "# Second step of EDA\n",
    "# Handle missing data\n",
    "\n",
    "# Indetofy missing data\n",
    "print(salesDatadf.isnull().sum())\n",
    "\n",
    "# null values are only in adress columns\n",
    "# # assumption is that the address doesnt have those values\n",
    "\n"
   ]
  },
  {
   "cell_type": "code",
   "execution_count": 41,
   "metadata": {},
   "outputs": [
    {
     "name": "stdout",
     "output_type": "stream",
     "text": [
      "2823\n"
     ]
    }
   ],
   "source": [
    "# Data Cleaning\n",
    "# drop dupicates\n",
    "salesDatadf.drop_duplicates(inplace= True)\n",
    "\n",
    "\n",
    "print(len(salesDatadf))\n",
    "\n",
    "# No duplicates"
   ]
  },
  {
   "cell_type": "code",
   "execution_count": 45,
   "metadata": {},
   "outputs": [
    {
     "data": {
      "text/plain": [
       "'\\nPrice each suggests the value of each product\\nAs they may sell various product in a single transaction, the price of each may not be number of prodcuts sold/ total sale price\\ntherefore 100 is the default value - going to leave this\\nwill add a feature engineered column\\n'"
      ]
     },
     "execution_count": 45,
     "metadata": {},
     "output_type": "execute_result"
    }
   ],
   "source": [
    "# Explore the column, priceeach\n",
    "\n",
    "'''\n",
    "Price each suggests the value of each product\n",
    "As they may sell various product in a single transaction, the price of each may not be number of prodcuts sold/ total sale price\n",
    "therefore 100 is the default value - going to leave this\n",
    "will add a feature engineered column\n",
    "'''\n"
   ]
  },
  {
   "cell_type": "code",
   "execution_count": 46,
   "metadata": {},
   "outputs": [],
   "source": [
    "# Data cleaned\n",
    "# save as a cleaned dataset, replace the intial one\n",
    "\n",
    "salesDatadf.to_csv('sales_data_sample.csv')"
   ]
  }
 ],
 "metadata": {
  "kernelspec": {
   "display_name": "Python 3",
   "language": "python",
   "name": "python3"
  },
  "language_info": {
   "codemirror_mode": {
    "name": "ipython",
    "version": 3
   },
   "file_extension": ".py",
   "mimetype": "text/x-python",
   "name": "python",
   "nbconvert_exporter": "python",
   "pygments_lexer": "ipython3",
   "version": "3.12.0"
  }
 },
 "nbformat": 4,
 "nbformat_minor": 2
}
